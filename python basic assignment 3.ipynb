{
 "cells": [
  {
   "cell_type": "code",
   "execution_count": null,
   "id": "441bfbf5",
   "metadata": {},
   "outputs": [],
   "source": [
    "#Python Basic Assignment 3"
   ]
  },
  {
   "cell_type": "markdown",
   "id": "f5fe7481",
   "metadata": {},
   "source": [
    " 1.Why are functions advantageous to have in your programs?"
   ]
  },
  {
   "cell_type": "code",
   "execution_count": null,
   "id": "92c56e12",
   "metadata": {},
   "outputs": [],
   "source": [
    "# Functions are advantageous to have in our program because it is convenient to call a function rather than repetatively writing\n",
    "# same lines of code again and again. Also, we can use the same function multiple times in a program.\n",
    "# i.e. functions increases reusability of code."
   ]
  },
  {
   "cell_type": "markdown",
   "id": "097c7fd4",
   "metadata": {},
   "source": [
    "2.When does the code in a function run: when it's specified or when it's called?"
   ]
  },
  {
   "cell_type": "code",
   "execution_count": null,
   "id": "812942ae",
   "metadata": {},
   "outputs": [],
   "source": [
    "# The code in the function runs when the function is called using the function name and not when the function is defined using \n",
    "# the def keyword."
   ]
  },
  {
   "cell_type": "markdown",
   "id": "adfad941",
   "metadata": {},
   "source": [
    "3.What statement creates a function?"
   ]
  },
  {
   "cell_type": "code",
   "execution_count": null,
   "id": "b88f504f",
   "metadata": {},
   "outputs": [],
   "source": [
    "# Functions are created using the def keyword followed by the function name and then closed brackets with colon at the end.\n",
    "# Then we write the statement that the function needs to execute when called in the later part of the code.\n",
    "# Syntax for creating a function named test for printing a statement:\n",
    "# def test():\n",
    "#     print(\"this is how you define a function\")"
   ]
  },
  {
   "cell_type": "markdown",
   "id": "be179755",
   "metadata": {},
   "source": [
    "4.What is the difference between a function and a function call?"
   ]
  },
  {
   "cell_type": "code",
   "execution_count": null,
   "id": "5eb50d12",
   "metadata": {},
   "outputs": [],
   "source": [
    "# A function is used to achieve a particular result while function call is used to achieve that task using the function.\n",
    "# So basically, using a function to do a particular task at any point in the program is called a function call."
   ]
  },
  {
   "cell_type": "markdown",
   "id": "d29920c9",
   "metadata": {},
   "source": [
    "5.How many global scopes are there in a Python program? How many local scopes?"
   ]
  },
  {
   "cell_type": "code",
   "execution_count": null,
   "id": "125431b1",
   "metadata": {},
   "outputs": [],
   "source": [
    "# A variable's scope is the range of the script where it is visible. Global scope means it is visible in every function\n",
    "# and local scope means the variables are declared inside a function and it has a limited scope.\n",
    "# There is only one global scope in python,whereas there can be many local scopes depending upon the function in program."
   ]
  },
  {
   "cell_type": "markdown",
   "id": "d8bbad43",
   "metadata": {},
   "source": [
    "6.What happens to variables in a local scope when the function call returns?"
   ]
  },
  {
   "cell_type": "code",
   "execution_count": null,
   "id": "8032516d",
   "metadata": {},
   "outputs": [],
   "source": [
    "# After the execution of the function, the variables with local scope are destroyed. \n",
    "# That means, the local variables disappears after the execution of the function terminates."
   ]
  },
  {
   "cell_type": "markdown",
   "id": "5bcc3a2d",
   "metadata": {},
   "source": [
    "7.What is the concept of a return value? Is it possible to have a return value in an expression?"
   ]
  },
  {
   "cell_type": "code",
   "execution_count": null,
   "id": "2406cbbb",
   "metadata": {},
   "outputs": [],
   "source": [
    "# A return value is used to end the execution of the function call and it returns the result to the caller.\n",
    "# Yes, return values only use expressions, but if a return statement is without any expression, then a special value None is returned."
   ]
  },
  {
   "cell_type": "markdown",
   "id": "d695497b",
   "metadata": {},
   "source": [
    "8.If a function does not have a return statement, what is the return value of a call to that function?"
   ]
  },
  {
   "cell_type": "code",
   "execution_count": null,
   "id": "3b711753",
   "metadata": {},
   "outputs": [],
   "source": [
    "# If a function does not have a return statement, control automatically returns to the calling function after the last statement\n",
    "# of the called function is executed. Function ends after execution of the body and no value is returned."
   ]
  },
  {
   "cell_type": "markdown",
   "id": "7763e7df",
   "metadata": {},
   "source": [
    "9.How do you make a function variable refer to the global variable?"
   ]
  },
  {
   "cell_type": "code",
   "execution_count": null,
   "id": "48306324",
   "metadata": {},
   "outputs": [],
   "source": [
    "# If we want to refer to a global variable in a function, we can use the global keyword to declare which variables are global\n",
    "# in our program."
   ]
  },
  {
   "cell_type": "markdown",
   "id": "fec68465",
   "metadata": {},
   "source": [
    "10.What is the data type of None?"
   ]
  },
  {
   "cell_type": "code",
   "execution_count": null,
   "id": "75f6eb77",
   "metadata": {},
   "outputs": [],
   "source": [
    "# The None keyword is used to define a null value. It has its own datatype that is called the Nonetype."
   ]
  },
  {
   "cell_type": "markdown",
   "id": "553fb60f",
   "metadata": {},
   "source": [
    "11.What does the sentence import areallyourpetsnamederic do?"
   ]
  },
  {
   "cell_type": "code",
   "execution_count": null,
   "id": "0c2c6776",
   "metadata": {},
   "outputs": [],
   "source": [
    "# The import statement \"import areallyourpetsnamederic\" will import a module named \"areallyourpetsnamederic\""
   ]
  },
  {
   "cell_type": "markdown",
   "id": "31b35f13",
   "metadata": {},
   "source": [
    "12.If you had a bacon() feature in a spam module, what would you call it after importing spam?"
   ]
  },
  {
   "cell_type": "code",
   "execution_count": null,
   "id": "c8717bc1",
   "metadata": {},
   "outputs": [],
   "source": [
    "# This function can be called as spam.bacon() ."
   ]
  },
  {
   "cell_type": "markdown",
   "id": "3e16c11b",
   "metadata": {},
   "source": [
    "13.What can you do to save a programme from crashing if it encounters an error?"
   ]
  },
  {
   "cell_type": "code",
   "execution_count": null,
   "id": "2fef246e",
   "metadata": {},
   "outputs": [],
   "source": [
    "# For preventing the program from crashing, we can include null checks, changing execution order etc.\n",
    "# Error handling can be used to notify the user of why the error occurred and gracefully exit the process that caused the error."
   ]
  },
  {
   "cell_type": "markdown",
   "id": "266f5f93",
   "metadata": {},
   "source": [
    "14.What is the purpose of the try clause? What is the purpose of the except clause?"
   ]
  },
  {
   "cell_type": "code",
   "execution_count": null,
   "id": "9e7932aa",
   "metadata": {},
   "outputs": [],
   "source": [
    "# In python,the try block is used to check some code for errors . \n",
    "# The code inside the try block will execute when there is no error in the program. \n",
    "# The except block(except clause) lets you handle the error in python."
   ]
  }
 ],
 "metadata": {
  "kernelspec": {
   "display_name": "Python 3 (ipykernel)",
   "language": "python",
   "name": "python3"
  },
  "language_info": {
   "codemirror_mode": {
    "name": "ipython",
    "version": 3
   },
   "file_extension": ".py",
   "mimetype": "text/x-python",
   "name": "python",
   "nbconvert_exporter": "python",
   "pygments_lexer": "ipython3",
   "version": "3.9.7"
  }
 },
 "nbformat": 4,
 "nbformat_minor": 5
}
